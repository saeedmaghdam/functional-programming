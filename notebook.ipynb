{
 "cells": [
  {
   "cell_type": "markdown",
   "id": "6e00233e-1225-47e5-a670-ba30e33d4a90",
   "metadata": {},
   "source": [
    "# Functional Programming In C#"
   ]
  },
  {
   "cell_type": "markdown",
   "id": "b7bca9e8-88ed-48fb-ae3e-9a16ca082dd6",
   "metadata": {},
   "source": [
    " **Table of content:**"
   ]
  },
  {
   "cell_type": "markdown",
   "id": "77cac6bc-a8d7-46d9-90ab-0673bb3f3a40",
   "metadata": {},
   "source": [
    "- [Introduction](#introduction)\n",
    "- [Pure Functions](#pure-functions)\n",
    "- [First-class Functions](#first-class-functions)\n",
    "- [High Order Functions](#high-order-functions)\n",
    "- [Recursion](#recursion)\n",
    "- [Anonymous Functions](#anonymous-functions)\n",
    "- [Closures](#closures)\n",
    "- [Functinal Composition](#functional-composition)\n",
    "- [Map, Filter, and Reduce](#map-filter-reduce)\n",
    "- [Refactoring](#refactoring)\n",
    "- [Currying](#curring)\n",
    "- [Immutability](#immutability)\n",
    "- [Referential Transparency](#referential-transparency)\n",
    "- [Monads](#monads)\n",
    "- [Pattern Matching Atching](#pattern-matching-atching)"
   ]
  },
  {
   "cell_type": "markdown",
   "id": "16dff291-15fe-4e5a-a288-a2d2a9fe7d18",
   "metadata": {},
   "source": [
    "<a id=\"introduction\"></a>\n",
    "## Introduction"
   ]
  },
  {
   "cell_type": "markdown",
   "id": "956d1b86-533e-498f-bd3c-e740975380a8",
   "metadata": {},
   "source": [
    "Functional programming is a way of writing computer code that's inspired by how math works. In math, you have functions like $f(x)=2x$, where you put in a number x and get back a result. Functional programming is kind of like that. \n",
    "\n",
    "\n",
    "Here are a few simple ideas:\n",
    "\n",
    "\n",
    "1. **Functions are like recipes:** Think of a function as a recipe. You give it some ingredients (input), and it gives you a dish (output). Importantly, the recipe doesn't mess with anything outside the kitchen (no side effects).\n",
    "\n",
    "2. **No changing ingredients:** In functional programming, once you mix your ingredients, you can't change them. If you want something different, you make a new dish with slightly different ingredients.\n",
    "\n",
    "3. **Reuse your recipes:** You can take a recipe (function) and use it in other recipes. Imagine you have a \"chocolate chip cookie\" recipe, and you use it in your \"dessert\" recipe. This makes your code more organized and easier to understand.\n",
    "\n",
    "4. **No surprises:** Functional programming aims to avoid surprises. If you put the same ingredients into a recipe, you'll always get the same dish. This predictability makes your code less prone to bugs.\n",
    "\n",
    "5. **Keep it simple:** Functional programming encourages simple, straightforward recipes. This makes it easier for others (or even future you) to understand what's going on.\n",
    "\n",
    "\n",
    "So, in a nutshell, functional programming is like following a bunch of simple recipes that don't mess with anything outside the kitchen, and you can mix and match these recipes to create more complex dishes. The math connection comes from the fact that these recipes (functions) are inspired by mathematical functions, which are also about input and output without surprises."
   ]
  },
  {
   "cell_type": "markdown",
   "id": "42c6ad80-6f43-47e9-8b86-8ef492b3ce1e",
   "metadata": {},
   "source": [
    "<a id=\"pure-functions\"></a>\n",
    "## Pure Functions"
   ]
  },
  {
   "cell_type": "markdown",
   "id": "4f5033bd-4d2a-4080-8b7f-efadaf8d327e",
   "metadata": {},
   "source": [
    "A pure function is like a magical box: you put something in, and it always gives you the same thing out. It doesn't do anything else, and it doesn't depend on anything outside the box. No surprises!"
   ]
  },
  {
   "cell_type": "markdown",
   "id": "5489f365-cf3b-4a14-919b-96533a2f8202",
   "metadata": {},
   "source": [
    "**<span style=\"color:red\">Example of Not a Pure Function</span>**"
   ]
  },
  {
   "cell_type": "markdown",
   "id": "b1e5d25c-2d10-48b8-9a64-29b25741fb69",
   "metadata": {},
   "source": [
    "Imagine a function in C# that calculates the total cost of shopping items and adds a tax rate from an external source:"
   ]
  },
  {
   "cell_type": "code",
   "execution_count": 8,
   "id": "5f96501c-bde3-4e40-b86e-611e7cb6994a",
   "metadata": {},
   "outputs": [],
   "source": [
    "public class ShoppingCart\n",
    "{\n",
    "    private double taxRate = 0.1; // External state\n",
    "\n",
    "    // Not a pure function - depends on external state (taxRate)\n",
    "    public double CalculateTotalCost(double itemPrice)\n",
    "    {\n",
    "        return itemPrice + (itemPrice * taxRate);\n",
    "    }\n",
    "}"
   ]
  },
  {
   "cell_type": "markdown",
   "id": "5732ff6d-7e59-417e-af9f-c9752449bfcd",
   "metadata": {},
   "source": [
    "This function is not pure because it depends on the external `taxRate`. If `taxRate` changes, the result of the function changes, and that's a bit unpredictable."
   ]
  },
  {
   "cell_type": "markdown",
   "id": "bebceeb0-c0ae-4b9b-8880-2a5b590e3ecd",
   "metadata": {},
   "source": [
    "**<span style=\"color:green\">Converting to a Pure Function</span>**"
   ]
  },
  {
   "cell_type": "markdown",
   "id": "28e5561f-4e7c-4071-9da3-06cf513b9cba",
   "metadata": {},
   "source": [
    "To make it pure, we need to make sure it only depends on what's passed in. Let's modify it:"
   ]
  },
  {
   "cell_type": "code",
   "execution_count": 9,
   "id": "070f8383-826a-4b4e-b199-f0cc4a87154c",
   "metadata": {},
   "outputs": [],
   "source": [
    "public class ShoppingCart\n",
    "{\n",
    "    // Pure function - depends only on the input (itemPrice)\n",
    "    public double CalculateTotalCost(double itemPrice, double taxRate)\n",
    "    {\n",
    "        return itemPrice + (itemPrice * taxRate);\n",
    "    }\n",
    "}"
   ]
  },
  {
   "cell_type": "markdown",
   "id": "fa41ffe4-f2e5-48e4-9b68-aa20d24e477e",
   "metadata": {},
   "source": [
    "Now, the function takes both the itemPrice and the taxRate as parameters. It doesn't rely on anything outside itself. You give it the item price and the tax rate, and it gives you the total cost. No hidden surprises from external sources!"
   ]
  },
  {
   "cell_type": "markdown",
   "id": "e0420d64-c167-4ea9-af4a-1d6942419e82",
   "metadata": {},
   "source": [
    "So, in simple terms, a pure function is like a math formula: you put in the numbers, and you always get the same answer, no matter what's happening elsewhere."
   ]
  },
  {
   "cell_type": "markdown",
   "id": "379afb30-1da4-43da-b8e1-a5070e6ff389",
   "metadata": {},
   "source": [
    "<a id=\"first-class-functions\"></a>\n",
    "### First-class Functions"
   ]
  },
  {
   "cell_type": "markdown",
   "id": "8124baf3-4100-4a7b-9a3f-57b46f720c11",
   "metadata": {},
   "source": [
    "Think of functions like VIPs (Very Important Persons). In a language with first-class functions, functions are treated as super important - you can use them just like any other piece of data. You can pass them around, assign them to variables, and even put them in collections. It's like treating functions as rockstars!"
   ]
  },
  {
   "cell_type": "code",
   "execution_count": 30,
   "id": "0780b78d-aeab-44af-b309-428993b444e6",
   "metadata": {},
   "outputs": [],
   "source": [
    "// This function takes another function as a parameter\n",
    "static void SayHello(Func<string> greetingFunction)\n",
    "{\n",
    "    Console.WriteLine(greetingFunction());\n",
    "}\n",
    "\n",
    "// This is a simple function we can pass around\n",
    "static string EnglishGreeting()\n",
    "{\n",
    "    return \"Hello!\";\n",
    "}"
   ]
  },
  {
   "cell_type": "code",
   "execution_count": 31,
   "id": "e9584934-7a63-4b11-94af-4a60d69cec4c",
   "metadata": {},
   "outputs": [
    {
     "name": "stdout",
     "output_type": "stream",
     "text": [
      "Hello!\n",
      "Hola!\n",
      "Bonjour!\n"
     ]
    }
   ],
   "source": [
    "// We're passing the function 'EnglishGreeting' as a parameter\n",
    "SayHello(EnglishGreeting);\n",
    "\n",
    "// We can also use an anonymous function\n",
    "SayHello(() => \"Hola!\");\n",
    "\n",
    "// Functions can be assigned to variables\n",
    "Func<string> frenchGreeting = () => \"Bonjour!\";\n",
    "SayHello(frenchGreeting);"
   ]
  },
  {
   "cell_type": "markdown",
   "id": "66014d36-c4b2-469e-ab9a-ec26fed68b92",
   "metadata": {},
   "source": [
    "In this example, the `SayHello` function takes another function as a parameter (`greetingFunction`). We then pass different greeting functions to it, like `EnglishGreeting`, an anonymous function saying \"Hola!\", and a function assigned to a variable saying \"Bonjour!\".\n",
    "\n",
    "So, first-class functions mean treating functions like any other piece of data in your program, allowing you to work with them in flexible and powerful ways."
   ]
  },
  {
   "cell_type": "markdown",
   "id": "50d0ebbc-0c4f-4217-b192-fb95db0dd121",
   "metadata": {},
   "source": [
    "<a id=\"high-order-functions\"></a>\n",
    "## High Order Functions"
   ]
  },
  {
   "cell_type": "markdown",
   "id": "1bbecad7-f633-41c6-8a77-414efc28517e",
   "metadata": {},
   "source": [
    "Think of functions that order other functions around. They either take functions as input, or they produce functions as output. It's like a boss function telling other functions what to do!"
   ]
  },
  {
   "cell_type": "markdown",
   "id": "f1393a2f-ac02-4477-88fe-ecebd7b9e771",
   "metadata": {},
   "source": [
    "**Example in C#**"
   ]
  },
  {
   "cell_type": "markdown",
   "id": "df28ac48-a903-4574-bc50-64f4461f6d4c",
   "metadata": {},
   "source": [
    "Imagine a factory where you tell it what kind of product you want, and it gives you a machine that makes that product. The factory is like a higher-order function - it takes your request (in this example, a non-function input) and gives you a specialized tool (another function)."
   ]
  },
  {
   "cell_type": "code",
   "execution_count": 33,
   "id": "6ea68bc3-baa8-4801-8e0c-8dd3f67437cd",
   "metadata": {},
   "outputs": [],
   "source": [
    "// This higher-order function takes a function as a parameter\n",
    "static Func<int, int> CreateMultiplier(int factor)\n",
    "{\n",
    "    // It returns a new function that multiplies its input by the specified factor\n",
    "    return (x) => x * factor;\n",
    "}"
   ]
  },
  {
   "cell_type": "code",
   "execution_count": 35,
   "id": "1434800a-4ab5-499e-8f73-9bdecf9449d1",
   "metadata": {},
   "outputs": [
    {
     "name": "stdout",
     "output_type": "stream",
     "text": [
      "15\n"
     ]
    }
   ],
   "source": [
    "// We're creating a function that multiplies by 3\n",
    "Func<int, int> multiplyBy3 = CreateMultiplier(3);\n",
    "\n",
    "// Now, we can use this function\n",
    "int result = multiplyBy3(5); // Result is 15\n",
    "Console.WriteLine(result);"
   ]
  },
  {
   "cell_type": "markdown",
   "id": "cc55827d-b785-4465-8b8c-c66023f9b376",
   "metadata": {},
   "source": [
    "In this example, CreateMultiplier is a higher-order function because it returns a new function ((x) => x * factor). It's like a factory for creating specific multiplication functions. Then, we use the generated function (multiplyBy3) to multiply a number by 3.\n",
    "\n",
    "So, in simpler terms, higher-order functions are like bosses for other functions. They either tell functions what to do or produce new functions based on your specifications."
   ]
  },
  {
   "cell_type": "markdown",
   "id": "fd8856e4-4a01-4651-827c-6a2bf6275a7a",
   "metadata": {},
   "source": [
    "<a id=\"recursion\"></a>\n",
    "## Recursion"
   ]
  },
  {
   "cell_type": "markdown",
   "id": "bffefc47-a9b2-4797-b35d-709affa78f1d",
   "metadata": {},
   "source": [
    "Recursion is like a set of Russian dolls. Imagine you have a doll, and inside that doll, there's another doll, and so on. In programming, recursion is a function calling itself, like opening one doll to find another."
   ]
  },
  {
   "cell_type": "markdown",
   "id": "5894d0a7-f47e-4160-aa27-766b936011e0",
   "metadata": {},
   "source": [
    "**Example in C#**"
   ]
  },
  {
   "cell_type": "markdown",
   "id": "024cecc9-c8ed-40f9-8b3e-c3186d72618f",
   "metadata": {},
   "source": [
    "Let's use a simple example: calculating the factorial of a number. The factorial of a number is the product of all positive integers up to that number. So, the factorial of 5 (written as $5!$) is $5 * 4 * 3 * 2 * 1$."
   ]
  },
  {
   "cell_type": "code",
   "execution_count": 36,
   "id": "927296e4-ef9b-4774-9489-222c356c0cfe",
   "metadata": {},
   "outputs": [],
   "source": [
    "// Recursive function to calculate factorial\n",
    "static int Factorial(int n)\n",
    "{\n",
    "    // Base case: when n is 0, the factorial is 1\n",
    "    if (n == 0)\n",
    "        return 1;\n",
    "        \n",
    "    // Recursive case: n! = n * (n-1)!\n",
    "    return n * Factorial(n - 1);\n",
    "}"
   ]
  },
  {
   "cell_type": "code",
   "execution_count": 37,
   "id": "bbda0a9d-62a1-4236-b9ed-9399e43aeafb",
   "metadata": {},
   "outputs": [
    {
     "name": "stdout",
     "output_type": "stream",
     "text": [
      "120\n"
     ]
    }
   ],
   "source": [
    "// Let's calculate the factorial of 5\n",
    "int result = Factorial(5);\n",
    "\n",
    "Console.WriteLine(result); // Output: 120"
   ]
  },
  {
   "cell_type": "markdown",
   "id": "46009464-5596-4502-90bf-e7965371edcf",
   "metadata": {},
   "source": [
    "<a id=\"anonymous-functions\"></a>\n",
    "## Anonymous Functions"
   ]
  },
  {
   "cell_type": "markdown",
   "id": "163b6b4c-1866-4afa-b6d2-cc6f379b31a1",
   "metadata": {},
   "source": [
    "Imagine you need a quick, small function, but you don't want to give it a full name and all that fuss. An anonymous function is like a quick note you write on a sticky pad - it's handy, short, and you use it on the go."
   ]
  },
  {
   "cell_type": "markdown",
   "id": "e598e78f-819a-4aab-90b6-81336f6beaec",
   "metadata": {},
   "source": [
    "**Forms of Anonymous Functions in C#**"
   ]
  },
  {
   "cell_type": "markdown",
   "id": "406367f1-82ef-4117-a405-ae5f27ddcc52",
   "metadata": {},
   "source": [
    "In C#, there are a couple of ways to write anonymous functions:\n",
    "\n",
    "1. **Lambda Expressions:** These are short and sweet, like writing a quick note. For example, **(x) => x * x** is a lambda expression that squares a number.\n",
    "2. **Anonymous Methods:** These are a bit more formal but still handy. They look like a regular method without a name. For example, **delegate(int x) { return x * x; }** is an anonymous method that also squares a number."
   ]
  },
  {
   "cell_type": "markdown",
   "id": "a959ca9d-a623-4615-8a51-6005d1562b85",
   "metadata": {},
   "source": [
    "**Example in C#**"
   ]
  },
  {
   "cell_type": "code",
   "execution_count": 40,
   "id": "b17df9a1-4010-4cd6-8239-c6bde02e642e",
   "metadata": {},
   "outputs": [],
   "source": [
    "delegate int SquareDelegate(int x); // Delegate for the anonymous method"
   ]
  },
  {
   "cell_type": "code",
   "execution_count": 41,
   "id": "788cc096-29a5-4d7a-856d-48a721267069",
   "metadata": {},
   "outputs": [
    {
     "name": "stdout",
     "output_type": "stream",
     "text": [
      "25\n",
      "25\n"
     ]
    }
   ],
   "source": [
    "// Lambda Expression\n",
    "Func<int, int> squareLambda = (x) => x * x;\n",
    "Console.WriteLine(squareLambda(5)); // Output: 25\n",
    "\n",
    "// Anonymous Method\n",
    "SquareDelegate squareDelegate = delegate(int x) { return x * x; };\n",
    "Console.WriteLine(squareDelegate(5)); // Output: 25"
   ]
  },
  {
   "cell_type": "markdown",
   "id": "5011eadc-9f44-46d9-9f25-d88a42f8fed3",
   "metadata": {},
   "source": [
    "In this example, `squareLambda` and `squareDelegate` are both anonymous functions that square a number. The lambda expression is short and concise, while the anonymous method is a bit more formal but achieves the same result.\n",
    "\n",
    "So, anonymous functions in C# are like quick, on-the-fly notes for small bits of code that you don't want to name formally. They're handy when you need something simple and don't want to go through the whole process of declaring a separate function."
   ]
  },
  {
   "cell_type": "markdown",
   "id": "7fc87c3a-713d-412c-a89c-032642357451",
   "metadata": {},
   "source": [
    "<a id=\"closures\"></a>\n",
    "## Closures"
   ]
  },
  {
   "cell_type": "markdown",
   "id": "eca6d880-605b-4ae7-b747-42572797d562",
   "metadata": {},
   "source": [
    "Imagine you have a lunchbox with a sandwich inside, and the sandwich remembers the flavor of the kitchen it came from. Closures are a bit like that – a function (the sandwich) remembers the environment it was created in, even if it's used somewhere else."
   ]
  },
  {
   "cell_type": "markdown",
   "id": "f6c112a6-8b84-461b-ab10-8251520cfced",
   "metadata": {},
   "source": [
    "**Example in C#**"
   ]
  },
  {
   "cell_type": "markdown",
   "id": "8d25a7b4-c4b6-4b51-8f90-0a3c5deea043",
   "metadata": {},
   "source": [
    "Let's say you have a function that creates another function, and the inner function remembers a variable from the outer function:"
   ]
  },
  {
   "cell_type": "code",
   "execution_count": 42,
   "id": "f2e7356e-1ccf-41e7-a5b5-cd9aa7728892",
   "metadata": {},
   "outputs": [],
   "source": [
    "// Outer function that creates an inner function\n",
    "static Func<int, int> CreateMultiplier(int factor)\n",
    "{\n",
    "    // Inner function that \"closes over\" the 'factor' variable\n",
    "    return (x) => x * factor;\n",
    "}"
   ]
  },
  {
   "cell_type": "code",
   "execution_count": 43,
   "id": "1363f3f7-a808-4a7e-aa9e-5851aeaab084",
   "metadata": {},
   "outputs": [
    {
     "name": "stdout",
     "output_type": "stream",
     "text": [
      "15\n"
     ]
    }
   ],
   "source": [
    "// Creating a function that multiplies by 3\n",
    "Func<int, int> multiplyBy3 = CreateMultiplier(3);\n",
    "\n",
    "// Using the created function\n",
    "Console.WriteLine(multiplyBy3(5)); // Output: 15"
   ]
  },
  {
   "cell_type": "markdown",
   "id": "27938d85-3754-4254-ba8f-0c1d2ee1c0bf",
   "metadata": {},
   "source": [
    "In this example, `CreateMultiplier` is the outer function, and it returns an inner function (the closure) that multiplies its input by a factor. When you create the multiplyBy3 function, it remembers that it should multiply by 3, thanks to the closure \"remembering\" the factor variable from its environment.\n",
    "\n",
    "So, closures are like functions that carry a little piece of their birthplace with them. They remember variables from the environment in which they were created, even if they are used somewhere else."
   ]
  },
  {
   "cell_type": "markdown",
   "id": "e62f902a-b2a5-4a43-883a-9ec6dae792bd",
   "metadata": {},
   "source": [
    "<a id=\"functional-composition\"></a>\n",
    "## Functinal Composition"
   ]
  },
  {
   "cell_type": "markdown",
   "id": "61a21170-4e08-4a07-8c1d-16be8058148e",
   "metadata": {},
   "source": [
    "Imagine you have a bunch of LEGO bricks, each doing a specific thing. Functional composition is like putting those bricks together to create a bigger and more powerful LEGO structure. In programming, it's about combining small functions to build more complex and useful functions."
   ]
  },
  {
   "cell_type": "markdown",
   "id": "26e50969-6e30-4417-9d1a-4391959b2acf",
   "metadata": {},
   "source": [
    "**Example in C#**"
   ]
  },
  {
   "cell_type": "markdown",
   "id": "97efa1aa-fb29-4517-92a4-a0c896599d03",
   "metadata": {},
   "source": [
    "Let's say you have two functions: one that doubles a number and another that adds 3. Function composition would be like stacking these functions together to create a new function that doubles a number and then adds 3."
   ]
  },
  {
   "cell_type": "code",
   "execution_count": 44,
   "id": "b6725b4a-093d-4415-a98b-9c0a5342125e",
   "metadata": {},
   "outputs": [],
   "source": [
    "// Function to double a number\n",
    "static int Double(int x)\n",
    "{\n",
    "    return x * 2;\n",
    "}\n",
    "\n",
    "// Function to add 3 to a number\n",
    "static int AddThree(int x)\n",
    "{\n",
    "    return x + 3;\n",
    "}"
   ]
  },
  {
   "cell_type": "code",
   "execution_count": 45,
   "id": "1c06828b-c42d-4a8c-928e-ace8dc8dbf64",
   "metadata": {},
   "outputs": [],
   "source": [
    "// Function composition: combining Double and AddThree\n",
    "static Func<int, int> DoubleAndAddThree = x => AddThree(Double(x));"
   ]
  },
  {
   "cell_type": "code",
   "execution_count": 46,
   "id": "ae60ab72-251b-4fe5-8189-db1a58730c7e",
   "metadata": {},
   "outputs": [
    {
     "name": "stdout",
     "output_type": "stream",
     "text": [
      "13\n"
     ]
    }
   ],
   "source": [
    "// Using the composed function\n",
    "Console.WriteLine(DoubleAndAddThree(5)); // Output: 13"
   ]
  },
  {
   "cell_type": "markdown",
   "id": "ab1bad73-60b1-452a-a1cd-3112cd214584",
   "metadata": {},
   "source": [
    "In this example, `DoubleAndAddThree` is a composed function. It takes a number, doubles it with the `Double` function, and then adds 3 with the `AddThree` function.\n",
    "\n",
    "So, functional composition is like building more powerful functions by combining simpler ones. It's a bit like LEGO, where each function is a block, and combining them creates something more intricate and useful."
   ]
  },
  {
   "cell_type": "markdown",
   "id": "484294c9-7462-4ab9-8e71-8606342520cc",
   "metadata": {},
   "source": [
    "<a id=\"map-filter-reduce\"></a>\n",
    "## Map, Filter, and Reduce"
   ]
  },
  {
   "cell_type": "markdown",
   "id": "a457a2e5-3308-4a2a-8df4-c75eac56e1f1",
   "metadata": {},
   "source": [
    "1. **Map:** Imagine you have a list of apples, and you want to turn each apple into an apple pie. Mapping is like transforming each item in a list and creating a new list with the results.\n",
    "2. **Filter:** Now, imagine you have a basket with various fruits, and you only want the apples. Filtering is like creating a new basket with only the items that meet a certain condition.\n",
    "3. **Reduce:** Lastly, let's say you have a basket of apples, and you want to find the total weight. Reducing is like combining all the items in a list to produce a single result."
   ]
  },
  {
   "cell_type": "markdown",
   "id": "9f37f54d-53af-40a0-b360-d1a9f6a2c6fb",
   "metadata": {},
   "source": [
    "**Example in C#**"
   ]
  },
  {
   "cell_type": "code",
   "execution_count": 2,
   "id": "e5ba1c1d-2303-47cc-a1f6-16b239f9f3e4",
   "metadata": {},
   "outputs": [],
   "source": [
    "// Original list of numbers\n",
    "var numbers = new List<int> { 1, 2, 3, 4, 5 };"
   ]
  },
  {
   "cell_type": "code",
   "execution_count": 3,
   "id": "19cc1362-0b3f-4e86-be7c-9d0a24d8be88",
   "metadata": {},
   "outputs": [
    {
     "name": "stdout",
     "output_type": "stream",
     "text": [
      "2, 4, 6, 8, 10\n"
     ]
    }
   ],
   "source": [
    "// Map: Doubling each number\n",
    "var doubledNumbers = numbers.Select(x => x * 2).ToList();\n",
    "Console.WriteLine(string.Join(\", \", doubledNumbers)); // Output: 2, 4, 6, 8, 10"
   ]
  },
  {
   "cell_type": "code",
   "execution_count": 4,
   "id": "7e36bee4-3356-4330-b25c-56ddf956e68f",
   "metadata": {},
   "outputs": [
    {
     "name": "stdout",
     "output_type": "stream",
     "text": [
      "2, 4\n"
     ]
    }
   ],
   "source": [
    "// Filter: Keeping only even numbers\n",
    "var evenNumbers = numbers.Where(x => x % 2 == 0).ToList();\n",
    "Console.WriteLine(string.Join(\", \", evenNumbers)); // Output: 2, 4"
   ]
  },
  {
   "cell_type": "code",
   "execution_count": 5,
   "id": "1da54f63-48bf-4a28-bc26-2baaac39e0a5",
   "metadata": {},
   "outputs": [
    {
     "name": "stdout",
     "output_type": "stream",
     "text": [
      "15\n"
     ]
    }
   ],
   "source": [
    "// Reduce: Summing all numbers\n",
    "var sum = numbers.Sum();\n",
    "Console.WriteLine(sum); // Output: 15"
   ]
  },
  {
   "cell_type": "markdown",
   "id": "40cea03d-cbb1-48e1-8c0d-0f81c90d381c",
   "metadata": {},
   "source": [
    "In this example:\n",
    "\n",
    "* **Map:** Select is used to double each number.\n",
    "* **Filter:** Where is used to keep only even numbers.\n",
    "* **Reduce:** Sum is used to find the total sum of all numbers.\n",
    "    \n",
    "So, Map, Filter, and Reduce are ways to manipulate and analyze lists of data, making them powerful tools in functional programming."
   ]
  },
  {
   "cell_type": "markdown",
   "id": "8df24e97-03f3-430f-a363-d3eab02df734",
   "metadata": {},
   "source": [
    "<a id=\"refactoring\"></a>\n",
    "## Refactoring"
   ]
  },
  {
   "cell_type": "markdown",
   "id": "55daad0a-4cfb-4b5e-92f6-c12898ba21cd",
   "metadata": {},
   "source": [
    "Imagine you have a messy room, and you want to organize it. Refactoring is like cleaning and rearranging your room to make it more efficient and easier to navigate. In programming, it means restructuring your code without changing its external behavior. It's about improving the code's design and readability."
   ]
  },
  {
   "cell_type": "markdown",
   "id": "5353265d-603e-4719-92a3-166e5b02d974",
   "metadata": {},
   "source": [
    "**Example in C#**"
   ]
  },
  {
   "cell_type": "markdown",
   "id": "1942e705-e20b-465e-94fb-918e8392d9cc",
   "metadata": {},
   "source": [
    "Let's say you have a function that calculates the area of a rectangle, but it's a bit messy."
   ]
  },
  {
   "cell_type": "code",
   "execution_count": 7,
   "id": "a2086442-29e7-45c5-96a3-fd6d5e3cb146",
   "metadata": {},
   "outputs": [],
   "source": [
    "// Original function to calculate the area of a rectangle\n",
    "static double CalculateRectangleArea(double length, double width)\n",
    "{\n",
    "    double result = length * width;\n",
    "    return result;\n",
    "}"
   ]
  },
  {
   "cell_type": "code",
   "execution_count": 8,
   "id": "a6736552-8264-46a6-99c6-b78b32a3b062",
   "metadata": {},
   "outputs": [
    {
     "name": "stdout",
     "output_type": "stream",
     "text": [
      "50\n"
     ]
    }
   ],
   "source": [
    "// Using the original function\n",
    "double area = CalculateRectangleArea(5, 10);\n",
    "Console.WriteLine(area); // Output: 50"
   ]
  },
  {
   "cell_type": "markdown",
   "id": "6ba5ab06-ff55-40b9-aa5e-76237fbc2803",
   "metadata": {},
   "source": [
    "Now, let's refactor it to make it cleaner and more straightforward:"
   ]
  },
  {
   "cell_type": "code",
   "execution_count": 9,
   "id": "7fa31e21-0383-4019-bf73-adef96eba4e3",
   "metadata": {},
   "outputs": [],
   "source": [
    "// Refactored function to calculate the area of a rectangle\n",
    "static double CalculateRectangleArea(double length, double width)\n",
    "{\n",
    "    return length * width;\n",
    "}"
   ]
  },
  {
   "cell_type": "code",
   "execution_count": 10,
   "id": "956b6ed6-6979-4800-a692-1c1252d85ff0",
   "metadata": {},
   "outputs": [
    {
     "name": "stdout",
     "output_type": "stream",
     "text": [
      "50\n"
     ]
    }
   ],
   "source": [
    "// Using the refactored function\n",
    "double area = CalculateRectangleArea(5, 10);\n",
    "Console.WriteLine(area); // Output: 50"
   ]
  },
  {
   "cell_type": "markdown",
   "id": "e63e19f1-b471-45f7-9760-15de74c3d743",
   "metadata": {},
   "source": [
    "In this refactoring example, we removed the unnecessary variable (result) and simplified the code to make it clearer. The functionality remains the same, but the code is now cleaner and easier to understand."
   ]
  },
  {
   "cell_type": "markdown",
   "id": "c6c75ad0-172b-443b-af10-4ad4bbe22d52",
   "metadata": {},
   "source": [
    "**Refactoring in Functional Programming:**"
   ]
  },
  {
   "cell_type": "markdown",
   "id": "e76a90c2-86d8-47ed-bbd0-7247d4206c7e",
   "metadata": {},
   "source": [
    "In the context of functional programming, refactoring shares the same fundamental concept of improving code without changing its external behavior. However, in functional programming, there might be a focus on transforming code to adhere more closely to functional principles, such as immutability, pure functions, and functional composition. Refactoring in this context might involve simplifying complex functions, introducing higher-order functions, or restructuring code to make it more functional in nature. The principles of refactoring remain similar, but the specific techniques might align with functional programming paradigms."
   ]
  },
  {
   "cell_type": "markdown",
   "id": "63f656ab-6061-45fd-88f1-0831d3a985af",
   "metadata": {},
   "source": [
    "<a id=\"curring\"></a>\n",
    "## Currying"
   ]
  },
  {
   "cell_type": "markdown",
   "id": "a515e897-cad1-4f8a-8e2c-fe18ac8a3177",
   "metadata": {},
   "source": [
    "Imagine you're making a sandwich. Currying is like preparing each ingredient one at a time and putting them together gradually. In programming, it's a way of transforming a function that takes multiple arguments into a sequence of functions, each taking one argument."
   ]
  },
  {
   "cell_type": "markdown",
   "id": "ad866ab4-b3bc-45c5-b9de-6488d3ccb491",
   "metadata": {},
   "source": [
    "**Example in C#**"
   ]
  },
  {
   "cell_type": "markdown",
   "id": "2925706a-14af-4856-9e34-75167d5b7aea",
   "metadata": {},
   "source": [
    "Let's say you have a function that adds two numbers together:"
   ]
  },
  {
   "cell_type": "code",
   "execution_count": 11,
   "id": "86c7e141-147c-4527-bd31-bded95ffe449",
   "metadata": {},
   "outputs": [],
   "source": [
    "// Original function to add two numbers\n",
    "static int Add(int x, int y)\n",
    "{\n",
    "    return x + y;\n",
    "}"
   ]
  },
  {
   "cell_type": "code",
   "execution_count": 12,
   "id": "416b9c78-1054-4ae6-9eb4-2f93c9465905",
   "metadata": {},
   "outputs": [
    {
     "name": "stdout",
     "output_type": "stream",
     "text": [
      "8\n"
     ]
    }
   ],
   "source": [
    "// Using the original function\n",
    "int sum = Add(3, 5);\n",
    "Console.WriteLine(sum); // Output: 8"
   ]
  },
  {
   "cell_type": "markdown",
   "id": "91d9ad49-0d24-49a8-a240-80aa005e92bb",
   "metadata": {},
   "source": [
    "Now, let's curry this function:"
   ]
  },
  {
   "cell_type": "code",
   "execution_count": 13,
   "id": "915f9d9d-4c21-4c1a-976e-aa472c19fe10",
   "metadata": {},
   "outputs": [],
   "source": [
    "// Curried function to add two numbers\n",
    "static Func<int, Func<int, int>> CurryAdd = x => y => x + y;"
   ]
  },
  {
   "cell_type": "code",
   "execution_count": 14,
   "id": "a45cf56f-7e8a-4747-9473-5942f4555e7d",
   "metadata": {},
   "outputs": [
    {
     "name": "stdout",
     "output_type": "stream",
     "text": [
      "8\n"
     ]
    }
   ],
   "source": [
    "// Using the curried function\n",
    "int sum = CurryAdd(3)(5);\n",
    "Console.WriteLine(sum); // Output: 8"
   ]
  },
  {
   "cell_type": "markdown",
   "id": "0ec1a180-d260-4110-a39a-a2f5c61246ee",
   "metadata": {},
   "source": [
    "In this example, `CurryAdd` is a curried function. Instead of taking both arguments at once, it takes the first argument (`x`) and returns a new function that takes the second argument (`y`). This allows us to use the function in a more step-by-step manner.\n",
    "\n",
    "So, currying is like breaking down a function that takes multiple arguments into a sequence of functions, making it more flexible and aligning with a more functional programming style."
   ]
  },
  {
   "cell_type": "markdown",
   "id": "9938ccad-de41-4d85-8dca-899719093b69",
   "metadata": {},
   "source": [
    "Let's break down why currying is important in functional programming in simple terms."
   ]
  },
  {
   "cell_type": "markdown",
   "id": "b1f2a557-072a-436d-8bf1-baacc65e894e",
   "metadata": {},
   "source": [
    "**Currying in Functional Programming:**"
   ]
  },
  {
   "cell_type": "markdown",
   "id": "df853836-cdd4-4a5e-8cce-515aa66fa429",
   "metadata": {},
   "source": [
    "1. **Partial Application:**\n",
    "> Imagine Pizza Toppings: Suppose you're ordering a pizza. Currying is like choosing each topping separately. You first choose the type of crust, then the sauce, then each topping one by one. Similarly, currying allows you to partially apply arguments to a function, creating new functions along the way.\n",
    "\n",
    "2. **Flexibility and Composition:**\n",
    "> Imagine LEGO Bricks: Functional programming is about building things with functions. Currying is like having individual LEGO bricks. You can combine them in different ways to build complex structures. Curried functions are more flexible and can be easily composed to create new functions.\n",
    "\n",
    "3. **Functional Composition:**\n",
    "> Imagine a Recipe: If you're following a recipe, it might say \"Add salt and pepper to taste.\" Currying lets you create functions that are like recipes. You can create a function that adds salt and another that adds pepper, and then compose them to get a new function that adds both.\n",
    "\n",
    "4. **Currying Aids in Higher-Order Functions:**\n",
    "> Imagine a Factory: In functional programming, functions are treated as first-class citizens. Currying makes it easier to pass functions around as arguments and return them from other functions. It aligns well with the idea of higher-order functions, where functions can take other functions as input or produce them as output."
   ]
  },
  {
   "cell_type": "markdown",
   "id": "bd281b92-547f-43e7-8cd6-a8821d41701e",
   "metadata": {},
   "source": [
    "**Example**"
   ]
  },
  {
   "cell_type": "markdown",
   "id": "a1016bc9-4803-43b1-aa8f-5c634e9cc37e",
   "metadata": {},
   "source": [
    "Let's say you have a function for calculating the area of a rectangle:"
   ]
  },
  {
   "cell_type": "code",
   "execution_count": 17,
   "id": "51c3c541-3fe2-4741-9fa2-85007ce3d521",
   "metadata": {},
   "outputs": [],
   "source": [
    "Func<int, Func<int, int>> CurryRectangleArea = length => width => length * width;"
   ]
  },
  {
   "cell_type": "markdown",
   "id": "20a0c82b-34e7-4b75-a296-e0158fb2ba86",
   "metadata": {},
   "source": [
    "Now, you can use it in different ways:\n",
    "\n",
    "* var calculateAreaWithLength5 = CurryRectangleArea(5);\n",
    "* var areaWithWidth3 = calculateAreaWithLength5(3);\n",
    "\n",
    "In this dummy scenario:\n",
    "\n",
    "* It's like saying, \"I want a function that calculates the area when the length is 5.\"\n",
    "* Then, you use that function to calculate the area when the width is 3."
   ]
  },
  {
   "cell_type": "markdown",
   "id": "35a5e835-1d14-4282-b3e4-291695a38b66",
   "metadata": {},
   "source": [
    "In Summary:"
   ]
  },
  {
   "cell_type": "markdown",
   "id": "e9755026-47d8-4619-aa7d-49372b9b844e",
   "metadata": {},
   "source": [
    "Currying is a tool in functional programming that helps with partial application, flexibility, and composition of functions. It makes your code more modular, allows for easier reuse of functions, and aligns well with the principles of functional programming. It's like breaking down complex tasks into simpler, more manageable steps, making your code more organized and easier to reason about."
   ]
  },
  {
   "cell_type": "markdown",
   "id": "e1ce0216-8e6d-48c0-ab6a-920e78d8a06b",
   "metadata": {},
   "source": [
    "<a id=\"immutability\"></a>\n",
    "## Immutability"
   ]
  },
  {
   "cell_type": "markdown",
   "id": "393833de-60ea-4e17-8f46-c624219c8e39",
   "metadata": {},
   "source": [
    "Imagine you have a magic wand. When you use it, things don't change. Immutability in programming is like having magic variables that, once set, can't be changed. You create something, and it stays the way it is."
   ]
  },
  {
   "cell_type": "markdown",
   "id": "d99c01a7-38c5-4896-a636-943d464b4a15",
   "metadata": {},
   "source": [
    "**Why Immutability is Important in Functional Programming:**"
   ]
  },
  {
   "cell_type": "markdown",
   "id": "b8758a57-1e27-4bc7-ae3e-e1f49d055e0c",
   "metadata": {},
   "source": [
    "1. Predictability:\n",
    "> Imagine a Cookie Recipe: In a cookie recipe, if you use a cup of sugar, it doesn't turn into flour later on. Immutability ensures that once you set a variable, it stays the same. This predictability makes your code easier to understand.\n",
    "\n",
    "2. Avoiding Bugs:\n",
    "> Imagine a Treasure Map: If you have a treasure map, you don't want someone to change the locations after you've started following it. Immutability prevents unintended changes, reducing the chance of bugs in your code.\n",
    "\n",
    "3. Concurrency and Parallelism:\n",
    "> Imagine Traffic Lights: In a busy intersection, if one traffic light turns red, you want all lights to see the same red. Immutability is like having synchronized traffic lights. It makes concurrent and parallel programming safer."
   ]
  },
  {
   "cell_type": "markdown",
   "id": "4abb7aba-1a51-4162-922b-641d9b09b7a9",
   "metadata": {},
   "source": [
    "**Example in C#**"
   ]
  },
  {
   "cell_type": "markdown",
   "id": "b51f866d-e667-499c-a143-a91265f90d7c",
   "metadata": {},
   "source": [
    "Let's say you have a simple class representing a point in 2D space:"
   ]
  },
  {
   "cell_type": "code",
   "execution_count": 20,
   "id": "c5b7bd0d-1eb3-41a3-9509-610e9a46b223",
   "metadata": {},
   "outputs": [],
   "source": [
    "public class Point\n",
    "{\n",
    "    public int X { get; init; }\n",
    "    public int Y { get; init; }\n",
    "\n",
    "    public Point(int x, int y)\n",
    "    {\n",
    "        X = x;\n",
    "        Y = y;\n",
    "    }\n",
    "}"
   ]
  },
  {
   "cell_type": "markdown",
   "id": "6938f65f-f9e8-4fad-9e9d-98c80d3fc1f9",
   "metadata": {},
   "source": [
    "In this example, once you create a Point object, its X and Y values can't be changed. This immutability ensures that the coordinates of a point stay constant, providing a clear and predictable representation."
   ]
  },
  {
   "cell_type": "markdown",
   "id": "8abf6d66-3727-4889-8f15-144edf5d0946",
   "metadata": {},
   "source": [
    "Now, let's imagine using this `Point` in a function:"
   ]
  },
  {
   "cell_type": "code",
   "execution_count": 21,
   "id": "045d8427-b8f0-487b-b02a-b0b9e4501c4e",
   "metadata": {},
   "outputs": [],
   "source": [
    "public static Point MovePoint(Point original, int deltaX, int deltaY)\n",
    "{\n",
    "    return new Point(original.X + deltaX, original.Y + deltaY);\n",
    "}"
   ]
  },
  {
   "cell_type": "markdown",
   "id": "de6b36e5-6f2e-4194-a567-d76d2539cfac",
   "metadata": {},
   "source": [
    "Here, the `MovePoint` function doesn't change the original `Point`; instead, it creates a new `Point` with updated coordinates. This way, the original `Point` remains unchanged, embracing the principle of immutability.\n",
    "\n",
    "So, immutability in functional programming is like having a set of rules that ensure your variables are like landmarks - once established, they don't shift unexpectedly, providing a more stable and predictable environment for your code."
   ]
  },
  {
   "cell_type": "markdown",
   "id": "3b09ed88-60d3-45be-adee-b70f0e3a8ac8",
   "metadata": {},
   "source": [
    "<a id=\"referential-transparency\"></a>\n",
    "## Referential Transparency"
   ]
  },
  {
   "cell_type": "markdown",
   "id": "354ea66e-ddef-4507-993e-bf0a5d30a468",
   "metadata": {},
   "source": [
    "Imagine you have a vending machine. If you put in the same coins and press the same button, you always get the same snack. Referential transparency is like having a predictable vending machine - if you use the same inputs, you'll always get the same outputs. In programming, it means that if you call a function with the same arguments, it will always return the same result."
   ]
  },
  {
   "cell_type": "markdown",
   "id": "3b0f3a4f-6190-4027-b493-60d02e41f15e",
   "metadata": {},
   "source": [
    "**Importance in Functional Programming:**"
   ]
  },
  {
   "cell_type": "markdown",
   "id": "917691cd-e0f0-48b8-9684-e2c507fbc28c",
   "metadata": {},
   "source": [
    "1. Predictability:\n",
    "> Imagine a Calculator: If you have a calculator, pressing '2 + 3' always gives you '5'. Referential transparency ensures that if you call a function with the same inputs, you'll always get the same outputs. This predictability makes your code easier to understand.\n",
    "\n",
    "2. Debugging and Testing:\n",
    "> Imagine a Puzzle: If you're solving a puzzle and every time you put the same pieces together, they form the same picture. Referential transparency makes your code more testable and helps with debugging because you can reason about each part independently.\n",
    "\n",
    "3. Parallel and Concurrent Programming:\n",
    "> Imagine Building Blocks: If you have building blocks, you can assemble them in any order to construct something. Referential transparency makes it easier to reason about and parallelize code because functions can be executed independently without affecting each other."
   ]
  },
  {
   "cell_type": "markdown",
   "id": "8af9b150-f1f2-4bc9-932d-38c68dbb794e",
   "metadata": {},
   "source": [
    "**Example in C#**"
   ]
  },
  {
   "cell_type": "markdown",
   "id": "d788d96e-2b1c-4178-825e-53eff7ee66b9",
   "metadata": {},
   "source": [
    "Let's consider a simple function:"
   ]
  },
  {
   "cell_type": "code",
   "execution_count": 22,
   "id": "1cbef749-adaf-4811-a9ec-c0c6cd4c4c20",
   "metadata": {},
   "outputs": [],
   "source": [
    "public static int Square(int x)\n",
    "{\n",
    "    return x * x;\n",
    "}"
   ]
  },
  {
   "cell_type": "markdown",
   "id": "be80d00c-2739-4329-a09a-85f994040119",
   "metadata": {},
   "source": [
    "The `Square` function is referentially transparent because if you call it with the same argument, it will always return the same result. For example:"
   ]
  },
  {
   "cell_type": "code",
   "execution_count": 23,
   "id": "9cecb550-0f97-4e1b-a9ea-fffd8a3b5704",
   "metadata": {},
   "outputs": [],
   "source": [
    "int result1 = Square(5); // result1 is 25\n",
    "int result2 = Square(5); // result2 is also 25"
   ]
  },
  {
   "cell_type": "markdown",
   "id": "828d2fba-13b9-4f72-b143-4e38f951e192",
   "metadata": {},
   "source": [
    "No matter how many times you call `Square(5)`, you will always get 25."
   ]
  },
  {
   "cell_type": "markdown",
   "id": "201f2497-631e-4aab-8fe9-9f28fab3d273",
   "metadata": {},
   "source": [
    "Now, imagine if the function were not referentially transparent:"
   ]
  },
  {
   "cell_type": "code",
   "execution_count": 25,
   "id": "545a269e-483a-4b4b-9637-7d51f41d9932",
   "metadata": {},
   "outputs": [],
   "source": [
    "public static int NonReferentiallyTransparent(int x)\n",
    "{\n",
    "    // Some non-deterministic operation\n",
    "    return x * DateTime.Now.Second;\n",
    "}"
   ]
  },
  {
   "cell_type": "markdown",
   "id": "3dafe639-fb83-4106-b4e6-f2b6e8c3dac0",
   "metadata": {},
   "source": [
    "Calling this function multiple times with the same argument may yield different results because it depends on the current second of the system clock. This lack of referential transparency makes the code less predictable and can lead to difficulties in reasoning about its behavior.\n",
    "\n",
    "So, referential transparency in functional programming is like having a vending machine where if you put in the same coins, you always get the same snack. It makes your code more predictable, testable, and easier to reason about."
   ]
  },
  {
   "cell_type": "markdown",
   "id": "9e2ab9d4-4b80-4e33-b811-ce1085d10a4b",
   "metadata": {},
   "source": [
    "<a id=\"monads\"></a>\n",
    "## Monads"
   ]
  },
  {
   "cell_type": "markdown",
   "id": "412c3a7a-b643-4c89-89f3-c0547aa6ae14",
   "metadata": {},
   "source": [
    "Imagine you have a magical box. You can put things in the box, perform some transformation inside, and get a new box with the transformed thing. Monads are like this magical box - they provide a structured way to perform operations on things inside the box."
   ]
  },
  {
   "cell_type": "markdown",
   "id": "6701cf43-45c1-4e6e-96a6-2ad165bf0664",
   "metadata": {},
   "source": [
    "**Example with a Box in C#**"
   ]
  },
  {
   "cell_type": "markdown",
   "id": "d2d58482-f173-4d0b-a1b2-a3f986ae3f70",
   "metadata": {},
   "source": [
    "Let's consider a scenario where our magical box can contain either a number or nothing. We want to double the number inside the box but handle the case where the box is empty."
   ]
  },
  {
   "cell_type": "code",
   "execution_count": 26,
   "id": "d8717ed9-7cad-4943-87de-3e780f728495",
   "metadata": {},
   "outputs": [],
   "source": [
    "public class MagicalBox<T>\n",
    "{\n",
    "    private readonly T value;\n",
    "\n",
    "    private MagicalBox(T value)\n",
    "    {\n",
    "        this.value = value;\n",
    "    }\n",
    "\n",
    "    public static MagicalBox<T> WithValue(T value)\n",
    "    {\n",
    "        return new MagicalBox<T>(value);\n",
    "    }\n",
    "\n",
    "    public static MagicalBox<T> Empty()\n",
    "    {\n",
    "        return new MagicalBox<T>(default(T));\n",
    "    }\n",
    "\n",
    "    public MagicalBox<TResult> Bind<TResult>(Func<T, MagicalBox<TResult>> func)\n",
    "    {\n",
    "        if (value == null || value.Equals(default(T)))\n",
    "        {\n",
    "            return MagicalBox<TResult>.Empty();\n",
    "        }\n",
    "\n",
    "        return func(value);\n",
    "    }\n",
    "\n",
    "    public override string ToString()\n",
    "    {\n",
    "        return value == null || value.Equals(default(T)) ? \"Empty MagicalBox<\" + typeof(T) + \">\" : \"MagicalBox<\" + typeof(T) + \"> with value \" + value;\n",
    "    }\n",
    "}"
   ]
  },
  {
   "cell_type": "code",
   "execution_count": 33,
   "id": "e0ddf8bb-0971-4ea4-9da0-fd93633b3c3a",
   "metadata": {},
   "outputs": [],
   "source": [
    "// Imagine a magical box that can contain a number or nothing\n",
    "MagicalBox<int> boxWithNumber = MagicalBox<int>.WithValue(42);\n",
    "MagicalBox<int> emptyBox = MagicalBox<int>.Empty();"
   ]
  },
  {
   "cell_type": "code",
   "execution_count": 34,
   "id": "6e87e258-c65e-4835-b667-2f6d2b22d407",
   "metadata": {},
   "outputs": [],
   "source": [
    "// Using the monadic bind operation to double the number inside the box\n",
    "MagicalBox<int> doubledBox1 = boxWithNumber.Bind(value => MagicalBox<int>.WithValue(value * 2));\n",
    "MagicalBox<int> doubledBox2 = emptyBox.Bind(value => MagicalBox<int>.WithValue(value * 2));"
   ]
  },
  {
   "cell_type": "code",
   "execution_count": 35,
   "id": "bfe752b0-722f-425a-b084-97b288e3ed8c",
   "metadata": {},
   "outputs": [
    {
     "name": "stdout",
     "output_type": "stream",
     "text": [
      "MagicalBox<System.Int32> with value 84\n",
      "Empty MagicalBox<System.Int32>\n"
     ]
    }
   ],
   "source": [
    "Console.WriteLine(doubledBox1); // Output: MagicalBox<int> with value 84\n",
    "Console.WriteLine(doubledBox2); // Output: Empty MagicalBox<int>"
   ]
  },
  {
   "cell_type": "markdown",
   "id": "12e001f3-6004-48c3-ace1-9e5687c04444",
   "metadata": {},
   "source": [
    "In this box example:\n",
    "\n",
    "* `MagicalBox<T>` is our magical box that can either contain a value of type T or nothing.\n",
    "* `Bind` is the monadic operation that allows us to transform the value inside the box using a function while handling the case where the box is empty.\n",
    "* The `doubledBox1` contains the doubled value of 42 (84), and the `doubledBox2` is an empty box because there's nothing to double inside.\n",
    "\n",
    "This box analogy simplifies the idea of monads, where the box structure helps us perform operations on values inside, handling potential emptiness or special cases in a structured way."
   ]
  },
  {
   "cell_type": "markdown",
   "id": "a607fabd-8eaf-44f5-b3ec-1752012f879c",
   "metadata": {},
   "source": [
    "In functional programming, functions play a central role, but monads introduce the idea of encapsulating computations or operations within a structured context, often implemented using classes. The class, in this case, acts as a kind of container or context that provides a controlled environment for these computations.\n",
    "\n",
    "Here's a breakdown:\n",
    "\n",
    "1. **Functions:** Functions are essential in functional programming. They take inputs and produce outputs, adhering to the principles of immutability and referential transparency.\n",
    "\n",
    "2. **Monads:** Monads, on the other hand, provide a way to structure computations within a context. This context is often implemented using classes. These classes define operations (like `Bind` or `Select` in LINQ) that allow you to perform computations while handling special cases, such as dealing with optional values, asynchronous computations, or state changes.\n",
    "\n",
    "3. **Structured Context:** The class (e.g., `MagicalBox` in the previous example) creates a structured context for computations. It encapsulates the value or computation within, allowing you to chain operations together in a predictable and controlled manner.\n",
    "\n",
    "So, in essence, monads use classes to create a black-box-like structure where computations can occur with certain rules or behaviors. This encapsulation helps manage complexity, handle special cases, and maintain a more predictable flow of operations."
   ]
  },
  {
   "cell_type": "markdown",
   "id": "9455982d-5078-4b4f-976f-258437ed378b",
   "metadata": {},
   "source": [
    "<a id=\"pattern-matching-atching\"></a>\n",
    "## Pattern Matching Atching"
   ]
  },
  {
   "cell_type": "code",
   "execution_count": null,
   "id": "30e83051-dea6-4457-95c5-201e55c701fe",
   "metadata": {},
   "outputs": [],
   "source": []
  }
 ],
 "metadata": {
  "kernelspec": {
   "display_name": ".NET (C#)",
   "language": "C#",
   "name": ".net-csharp"
  },
  "language_info": {
   "file_extension": ".cs",
   "mimetype": "text/x-csharp",
   "name": "C#",
   "pygments_lexer": "csharp",
   "version": "11.0"
  }
 },
 "nbformat": 4,
 "nbformat_minor": 5
}
