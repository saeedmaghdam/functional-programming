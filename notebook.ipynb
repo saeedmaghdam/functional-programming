{
 "cells": [
  {
   "cell_type": "markdown",
   "id": "6e00233e-1225-47e5-a670-ba30e33d4a90",
   "metadata": {},
   "source": [
    "# Functional Programming In C#"
   ]
  },
  {
   "cell_type": "markdown",
   "id": "b7bca9e8-88ed-48fb-ae3e-9a16ca082dd6",
   "metadata": {},
   "source": [
    " **Table of content:**"
   ]
  },
  {
   "cell_type": "markdown",
   "id": "77cac6bc-a8d7-46d9-90ab-0673bb3f3a40",
   "metadata": {},
   "source": [
    "- [Introduction](#introduction)\n",
    "- [Pure Functions](#pure-functions)\n",
    "- [First-class Functions](#first-class-functions)\n",
    "- [High Order Functions](#high-order-functions)\n",
    "- [Refactoring](#refactoring)\n",
    "- [Currying](#curring)\n",
    "- [Functinal Composition](#functional-composition)\n",
    "- [Immutability](#immutability)\n",
    "- [Referential Transparency](#referential-transparency)\n",
    "- [Monads](#monads)\n",
    "- [Pattern Matching Atching](#pattern-matching-atching)"
   ]
  },
  {
   "cell_type": "markdown",
   "id": "16dff291-15fe-4e5a-a288-a2d2a9fe7d18",
   "metadata": {},
   "source": [
    "<a id=\"introduction\"></a>\n",
    "### Introduction"
   ]
  },
  {
   "cell_type": "markdown",
   "id": "956d1b86-533e-498f-bd3c-e740975380a8",
   "metadata": {},
   "source": [
    "Functional programming is a way of writing computer code that's inspired by how math works. In math, you have functions like $f(x)=2x$, where you put in a number x and get back a result. Functional programming is kind of like that. \n",
    "\n",
    "\n",
    "Here are a few simple ideas:\n",
    "\n",
    "\n",
    "1. **Functions are like recipes:** Think of a function as a recipe. You give it some ingredients (input), and it gives you a dish (output). Importantly, the recipe doesn't mess with anything outside the kitchen (no side effects).\n",
    "\n",
    "2. **No changing ingredients:** In functional programming, once you mix your ingredients, you can't change them. If you want something different, you make a new dish with slightly different ingredients.\n",
    "\n",
    "3. **Reuse your recipes:** You can take a recipe (function) and use it in other recipes. Imagine you have a \"chocolate chip cookie\" recipe, and you use it in your \"dessert\" recipe. This makes your code more organized and easier to understand.\n",
    "\n",
    "4. **No surprises:** Functional programming aims to avoid surprises. If you put the same ingredients into a recipe, you'll always get the same dish. This predictability makes your code less prone to bugs.\n",
    "\n",
    "5. **Keep it simple:** Functional programming encourages simple, straightforward recipes. This makes it easier for others (or even future you) to understand what's going on.\n",
    "\n",
    "\n",
    "So, in a nutshell, functional programming is like following a bunch of simple recipes that don't mess with anything outside the kitchen, and you can mix and match these recipes to create more complex dishes. The math connection comes from the fact that these recipes (functions) are inspired by mathematical functions, which are also about input and output without surprises."
   ]
  },
  {
   "cell_type": "markdown",
   "id": "42c6ad80-6f43-47e9-8b86-8ef492b3ce1e",
   "metadata": {},
   "source": [
    "<a id=\"pure-functions\"></a>\n",
    "### Pure Functions"
   ]
  },
  {
   "cell_type": "markdown",
   "id": "4f5033bd-4d2a-4080-8b7f-efadaf8d327e",
   "metadata": {},
   "source": [
    "A pure function is like a magical box: you put something in, and it always gives you the same thing out. It doesn't do anything else, and it doesn't depend on anything outside the box. No surprises!"
   ]
  },
  {
   "cell_type": "markdown",
   "id": "5489f365-cf3b-4a14-919b-96533a2f8202",
   "metadata": {},
   "source": [
    "**<span style=\"color:red\">Example of Not a Pure Function</span>**"
   ]
  },
  {
   "cell_type": "markdown",
   "id": "b1e5d25c-2d10-48b8-9a64-29b25741fb69",
   "metadata": {},
   "source": [
    "Imagine a function in C# that calculates the total cost of shopping items and adds a tax rate from an external source:"
   ]
  },
  {
   "cell_type": "code",
   "execution_count": 8,
   "id": "5f96501c-bde3-4e40-b86e-611e7cb6994a",
   "metadata": {},
   "outputs": [],
   "source": [
    "public class ShoppingCart\n",
    "{\n",
    "    private double taxRate = 0.1; // External state\n",
    "\n",
    "    // Not a pure function - depends on external state (taxRate)\n",
    "    public double CalculateTotalCost(double itemPrice)\n",
    "    {\n",
    "        return itemPrice + (itemPrice * taxRate);\n",
    "    }\n",
    "}"
   ]
  },
  {
   "cell_type": "markdown",
   "id": "5732ff6d-7e59-417e-af9f-c9752449bfcd",
   "metadata": {},
   "source": [
    "This function is not pure because it depends on the external `taxRate`. If `taxRate` changes, the result of the function changes, and that's a bit unpredictable."
   ]
  },
  {
   "cell_type": "markdown",
   "id": "bebceeb0-c0ae-4b9b-8880-2a5b590e3ecd",
   "metadata": {},
   "source": [
    "**<span style=\"color:green\">Converting to a Pure Function</span>**"
   ]
  },
  {
   "cell_type": "markdown",
   "id": "28e5561f-4e7c-4071-9da3-06cf513b9cba",
   "metadata": {},
   "source": [
    "To make it pure, we need to make sure it only depends on what's passed in. Let's modify it:"
   ]
  },
  {
   "cell_type": "code",
   "execution_count": 9,
   "id": "070f8383-826a-4b4e-b199-f0cc4a87154c",
   "metadata": {},
   "outputs": [],
   "source": [
    "public class ShoppingCart\n",
    "{\n",
    "    // Pure function - depends only on the input (itemPrice)\n",
    "    public double CalculateTotalCost(double itemPrice, double taxRate)\n",
    "    {\n",
    "        return itemPrice + (itemPrice * taxRate);\n",
    "    }\n",
    "}"
   ]
  },
  {
   "cell_type": "markdown",
   "id": "fa41ffe4-f2e5-48e4-9b68-aa20d24e477e",
   "metadata": {},
   "source": [
    "Now, the function takes both the itemPrice and the taxRate as parameters. It doesn't rely on anything outside itself. You give it the item price and the tax rate, and it gives you the total cost. No hidden surprises from external sources!"
   ]
  },
  {
   "cell_type": "markdown",
   "id": "e0420d64-c167-4ea9-af4a-1d6942419e82",
   "metadata": {},
   "source": [
    "So, in simple terms, a pure function is like a math formula: you put in the numbers, and you always get the same answer, no matter what's happening elsewhere."
   ]
  },
  {
   "cell_type": "markdown",
   "id": "379afb30-1da4-43da-b8e1-a5070e6ff389",
   "metadata": {},
   "source": [
    "<a id=\"first-class-functions\"></a>\n",
    "### First-class Functions"
   ]
  },
  {
   "cell_type": "markdown",
   "id": "8124baf3-4100-4a7b-9a3f-57b46f720c11",
   "metadata": {},
   "source": [
    "Think of functions like VIPs (Very Important Persons). In a language with first-class functions, functions are treated as super important - you can use them just like any other piece of data. You can pass them around, assign them to variables, and even put them in collections. It's like treating functions as rockstars!"
   ]
  },
  {
   "cell_type": "code",
   "execution_count": 27,
   "id": "e9584934-7a63-4b11-94af-4a60d69cec4c",
   "metadata": {},
   "outputs": [
    {
     "name": "stdout",
     "output_type": "stream",
     "text": [
      "Hello!\n",
      "Hola!\n",
      "Bonjour!\n"
     ]
    }
   ],
   "source": [
    "// This function takes another function as a parameter\n",
    "static void SayHello(Func<string> greetingFunction)\n",
    "{\n",
    "    Console.WriteLine(greetingFunction());\n",
    "}\n",
    "\n",
    "// This is a simple function we can pass around\n",
    "static string EnglishGreeting()\n",
    "{\n",
    "    return \"Hello!\";\n",
    "}\n",
    "\n",
    "// We're passing the function 'EnglishGreeting' as a parameter\n",
    "SayHello(EnglishGreeting);\n",
    "\n",
    "// We can also use an anonymous function\n",
    "SayHello(() => \"Hola!\");\n",
    "\n",
    "// Functions can be assigned to variables\n",
    "Func<string> frenchGreeting = () => \"Bonjour!\";\n",
    "SayHello(frenchGreeting);"
   ]
  },
  {
   "cell_type": "markdown",
   "id": "66014d36-c4b2-469e-ab9a-ec26fed68b92",
   "metadata": {},
   "source": [
    "In this example, the `SayHello` function takes another function as a parameter (`greetingFunction`). We then pass different greeting functions to it, like `EnglishGreeting`, an anonymous function saying \"Hola!\", and a function assigned to a variable saying \"Bonjour!\".\n",
    "\n",
    "So, first-class functions mean treating functions like any other piece of data in your program, allowing you to work with them in flexible and powerful ways."
   ]
  },
  {
   "cell_type": "markdown",
   "id": "50d0ebbc-0c4f-4217-b192-fb95db0dd121",
   "metadata": {},
   "source": [
    "<a id=\"high-order-functions\"></a>\n",
    "### High Order Functions"
   ]
  },
  {
   "cell_type": "markdown",
   "id": "8df24e97-03f3-430f-a363-d3eab02df734",
   "metadata": {},
   "source": [
    "<a id=\"refactoring\"></a>\n",
    "### Refactoring"
   ]
  },
  {
   "cell_type": "markdown",
   "id": "63f656ab-6061-45fd-88f1-0831d3a985af",
   "metadata": {},
   "source": [
    "<a id=\"curring\"></a>\n",
    "### Currying"
   ]
  },
  {
   "cell_type": "markdown",
   "id": "207143e3-702e-4e16-9cd9-8a15ffc0420b",
   "metadata": {},
   "source": [
    "<a id=\"functional-composition\"></a>\n",
    "### Functinal Composition"
   ]
  },
  {
   "cell_type": "markdown",
   "id": "e1ce0216-8e6d-48c0-ab6a-920e78d8a06b",
   "metadata": {},
   "source": [
    "<a id=\"immutability\"></a>\n",
    "### Immutability"
   ]
  },
  {
   "cell_type": "markdown",
   "id": "3b09ed88-60d3-45be-adee-b70f0e3a8ac8",
   "metadata": {},
   "source": [
    "<a id=\"referential-transparency\"></a>\n",
    "### Referential Transparency"
   ]
  },
  {
   "cell_type": "markdown",
   "id": "9e2ab9d4-4b80-4e33-b811-ce1085d10a4b",
   "metadata": {},
   "source": [
    "<a id=\"monads\"></a>\n",
    "### Monads"
   ]
  },
  {
   "cell_type": "markdown",
   "id": "9455982d-5078-4b4f-976f-258437ed378b",
   "metadata": {},
   "source": [
    "<a id=\"pattern-matching-atching\"></a>\n",
    "### Pattern Matching Atching"
   ]
  }
 ],
 "metadata": {
  "kernelspec": {
   "display_name": ".NET (C#)",
   "language": "C#",
   "name": ".net-csharp"
  },
  "language_info": {
   "file_extension": ".cs",
   "mimetype": "text/x-csharp",
   "name": "C#",
   "pygments_lexer": "csharp",
   "version": "11.0"
  }
 },
 "nbformat": 4,
 "nbformat_minor": 5
}
