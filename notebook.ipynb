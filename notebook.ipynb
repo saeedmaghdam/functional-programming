{
 "cells": [
  {
   "cell_type": "markdown",
   "id": "6e00233e-1225-47e5-a670-ba30e33d4a90",
   "metadata": {},
   "source": [
    "# Functional Programming In C#"
   ]
  },
  {
   "cell_type": "markdown",
   "id": "b7bca9e8-88ed-48fb-ae3e-9a16ca082dd6",
   "metadata": {},
   "source": [
    " **Table of content:**"
   ]
  },
  {
   "cell_type": "markdown",
   "id": "77cac6bc-a8d7-46d9-90ab-0673bb3f3a40",
   "metadata": {},
   "source": [
    "- [First-class Functions](#first-class-functions)\n",
    "- [Pure Functions](#pure-functions)\n",
    "- [Functinal Composition](#functional-composition)\n",
    "- [High Order Functions](#high-order-functions)\n",
    "- [Refactoring](#refactoring)\n",
    "- [Currying](#curring)\n",
    "- [Immutability](#immutability)\n",
    "- [Referential Transparency](#referential-transparency)\n",
    "- [Monads](#monads)\n",
    "- [Pattern Matching Atching](#pattern-matching-atching)"
   ]
  },
  {
   "cell_type": "markdown",
   "id": "532a25ec-c792-43d8-999b-6ea73fd05fa2",
   "metadata": {},
   "source": [
    "<a id=\"first-class-functions\"></a>\n",
    "### First-class Functions"
   ]
  },
  {
   "cell_type": "markdown",
   "id": "ec8cfaf7-7bbb-49e7-bcd8-014c01569edf",
   "metadata": {},
   "source": [
    "<a id=\"pure-functions\"></a>\n",
    "### Pure Functions"
   ]
  },
  {
   "cell_type": "markdown",
   "id": "359963f7-7270-43fd-a2a6-c37e7ccdb020",
   "metadata": {},
   "source": [
    "<a id=\"functional-composition\"></a>\n",
    "### Functinal Composition"
   ]
  },
  {
   "cell_type": "markdown",
   "id": "379afb30-1da4-43da-b8e1-a5070e6ff389",
   "metadata": {},
   "source": [
    "<a id=\"high-order-functions\"></a>\n",
    "### High Order Functions"
   ]
  },
  {
   "cell_type": "markdown",
   "id": "8df24e97-03f3-430f-a363-d3eab02df734",
   "metadata": {},
   "source": [
    "<a id=\"refactoring\"></a>\n",
    "### Refactoring"
   ]
  },
  {
   "cell_type": "markdown",
   "id": "63f656ab-6061-45fd-88f1-0831d3a985af",
   "metadata": {},
   "source": [
    "<a id=\"curring\"></a>\n",
    "### Currying"
   ]
  },
  {
   "cell_type": "markdown",
   "id": "e1ce0216-8e6d-48c0-ab6a-920e78d8a06b",
   "metadata": {},
   "source": [
    "<a id=\"immutability\"></a>\n",
    "### Immutability"
   ]
  },
  {
   "cell_type": "markdown",
   "id": "3b09ed88-60d3-45be-adee-b70f0e3a8ac8",
   "metadata": {},
   "source": [
    "<a id=\"referential-transparency\"></a>\n",
    "### Referential Transparency"
   ]
  },
  {
   "cell_type": "markdown",
   "id": "9e2ab9d4-4b80-4e33-b811-ce1085d10a4b",
   "metadata": {},
   "source": [
    "<a id=\"monads\"></a>\n",
    "### Monads"
   ]
  },
  {
   "cell_type": "markdown",
   "id": "9455982d-5078-4b4f-976f-258437ed378b",
   "metadata": {},
   "source": [
    "<a id=\"pattern-matching-atching\"></a>\n",
    "### Pattern Matching Atching"
   ]
  }
 ],
 "metadata": {
  "kernelspec": {
   "display_name": ".NET (C#)",
   "language": "C#",
   "name": ".net-csharp"
  },
  "language_info": {
   "file_extension": ".cs",
   "mimetype": "text/x-csharp",
   "name": "C#",
   "pygments_lexer": "csharp",
   "version": "11.0"
  }
 },
 "nbformat": 4,
 "nbformat_minor": 5
}
