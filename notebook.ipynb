{
 "cells": [
  {
   "cell_type": "markdown",
   "id": "6e00233e-1225-47e5-a670-ba30e33d4a90",
   "metadata": {},
   "source": [
    "# Functional Programming In C#"
   ]
  },
  {
   "cell_type": "markdown",
   "id": "b7bca9e8-88ed-48fb-ae3e-9a16ca082dd6",
   "metadata": {},
   "source": [
    " **Table of content:**"
   ]
  },
  {
   "cell_type": "markdown",
   "id": "77cac6bc-a8d7-46d9-90ab-0673bb3f3a40",
   "metadata": {},
   "source": [
    "- [Introduction](#introduction)\n",
    "- [Pure Functions](#pure-functions)\n",
    "- [First-class Functions](#first-class-functions)\n",
    "- [High Order Functions](#high-order-functions)\n",
    "- [Recursion](#recursion)\n",
    "- [Anonymous Functions](#anonymous-functions)\n",
    "- [Closures](#closures)\n",
    "- [Functinal Composition](#functional-composition)\n",
    "- [Map, Filter, and Reduce](#map-filter-reduce)\n",
    "- [Refactoring](#refactoring)\n",
    "- [Currying](#curring)\n",
    "- [Immutability](#immutability)\n",
    "- [Referential Transparency](#referential-transparency)\n",
    "- [Monads](#monads)\n",
    "- [Pattern Matching Atching](#pattern-matching-atching)"
   ]
  },
  {
   "cell_type": "markdown",
   "id": "16dff291-15fe-4e5a-a288-a2d2a9fe7d18",
   "metadata": {},
   "source": [
    "<a id=\"introduction\"></a>\n",
    "## Introduction"
   ]
  },
  {
   "cell_type": "markdown",
   "id": "956d1b86-533e-498f-bd3c-e740975380a8",
   "metadata": {},
   "source": [
    "Functional programming is a way of writing computer code that's inspired by how math works. In math, you have functions like $f(x)=2x$, where you put in a number x and get back a result. Functional programming is kind of like that. \n",
    "\n",
    "\n",
    "Here are a few simple ideas:\n",
    "\n",
    "\n",
    "1. **Functions are like recipes:** Think of a function as a recipe. You give it some ingredients (input), and it gives you a dish (output). Importantly, the recipe doesn't mess with anything outside the kitchen (no side effects).\n",
    "\n",
    "2. **No changing ingredients:** In functional programming, once you mix your ingredients, you can't change them. If you want something different, you make a new dish with slightly different ingredients.\n",
    "\n",
    "3. **Reuse your recipes:** You can take a recipe (function) and use it in other recipes. Imagine you have a \"chocolate chip cookie\" recipe, and you use it in your \"dessert\" recipe. This makes your code more organized and easier to understand.\n",
    "\n",
    "4. **No surprises:** Functional programming aims to avoid surprises. If you put the same ingredients into a recipe, you'll always get the same dish. This predictability makes your code less prone to bugs.\n",
    "\n",
    "5. **Keep it simple:** Functional programming encourages simple, straightforward recipes. This makes it easier for others (or even future you) to understand what's going on.\n",
    "\n",
    "\n",
    "So, in a nutshell, functional programming is like following a bunch of simple recipes that don't mess with anything outside the kitchen, and you can mix and match these recipes to create more complex dishes. The math connection comes from the fact that these recipes (functions) are inspired by mathematical functions, which are also about input and output without surprises."
   ]
  },
  {
   "cell_type": "markdown",
   "id": "42c6ad80-6f43-47e9-8b86-8ef492b3ce1e",
   "metadata": {},
   "source": [
    "<a id=\"pure-functions\"></a>\n",
    "## Pure Functions"
   ]
  },
  {
   "cell_type": "markdown",
   "id": "4f5033bd-4d2a-4080-8b7f-efadaf8d327e",
   "metadata": {},
   "source": [
    "A pure function is like a magical box: you put something in, and it always gives you the same thing out. It doesn't do anything else, and it doesn't depend on anything outside the box. No surprises!"
   ]
  },
  {
   "cell_type": "markdown",
   "id": "5489f365-cf3b-4a14-919b-96533a2f8202",
   "metadata": {},
   "source": [
    "**<span style=\"color:red\">Example of Not a Pure Function</span>**"
   ]
  },
  {
   "cell_type": "markdown",
   "id": "b1e5d25c-2d10-48b8-9a64-29b25741fb69",
   "metadata": {},
   "source": [
    "Imagine a function in C# that calculates the total cost of shopping items and adds a tax rate from an external source:"
   ]
  },
  {
   "cell_type": "code",
   "execution_count": 8,
   "id": "5f96501c-bde3-4e40-b86e-611e7cb6994a",
   "metadata": {},
   "outputs": [],
   "source": [
    "public class ShoppingCart\n",
    "{\n",
    "    private double taxRate = 0.1; // External state\n",
    "\n",
    "    // Not a pure function - depends on external state (taxRate)\n",
    "    public double CalculateTotalCost(double itemPrice)\n",
    "    {\n",
    "        return itemPrice + (itemPrice * taxRate);\n",
    "    }\n",
    "}"
   ]
  },
  {
   "cell_type": "markdown",
   "id": "5732ff6d-7e59-417e-af9f-c9752449bfcd",
   "metadata": {},
   "source": [
    "This function is not pure because it depends on the external `taxRate`. If `taxRate` changes, the result of the function changes, and that's a bit unpredictable."
   ]
  },
  {
   "cell_type": "markdown",
   "id": "bebceeb0-c0ae-4b9b-8880-2a5b590e3ecd",
   "metadata": {},
   "source": [
    "**<span style=\"color:green\">Converting to a Pure Function</span>**"
   ]
  },
  {
   "cell_type": "markdown",
   "id": "28e5561f-4e7c-4071-9da3-06cf513b9cba",
   "metadata": {},
   "source": [
    "To make it pure, we need to make sure it only depends on what's passed in. Let's modify it:"
   ]
  },
  {
   "cell_type": "code",
   "execution_count": 9,
   "id": "070f8383-826a-4b4e-b199-f0cc4a87154c",
   "metadata": {},
   "outputs": [],
   "source": [
    "public class ShoppingCart\n",
    "{\n",
    "    // Pure function - depends only on the input (itemPrice)\n",
    "    public double CalculateTotalCost(double itemPrice, double taxRate)\n",
    "    {\n",
    "        return itemPrice + (itemPrice * taxRate);\n",
    "    }\n",
    "}"
   ]
  },
  {
   "cell_type": "markdown",
   "id": "fa41ffe4-f2e5-48e4-9b68-aa20d24e477e",
   "metadata": {},
   "source": [
    "Now, the function takes both the itemPrice and the taxRate as parameters. It doesn't rely on anything outside itself. You give it the item price and the tax rate, and it gives you the total cost. No hidden surprises from external sources!"
   ]
  },
  {
   "cell_type": "markdown",
   "id": "e0420d64-c167-4ea9-af4a-1d6942419e82",
   "metadata": {},
   "source": [
    "So, in simple terms, a pure function is like a math formula: you put in the numbers, and you always get the same answer, no matter what's happening elsewhere."
   ]
  },
  {
   "cell_type": "markdown",
   "id": "379afb30-1da4-43da-b8e1-a5070e6ff389",
   "metadata": {},
   "source": [
    "<a id=\"first-class-functions\"></a>\n",
    "### First-class Functions"
   ]
  },
  {
   "cell_type": "markdown",
   "id": "8124baf3-4100-4a7b-9a3f-57b46f720c11",
   "metadata": {},
   "source": [
    "Think of functions like VIPs (Very Important Persons). In a language with first-class functions, functions are treated as super important - you can use them just like any other piece of data. You can pass them around, assign them to variables, and even put them in collections. It's like treating functions as rockstars!"
   ]
  },
  {
   "cell_type": "code",
   "execution_count": 30,
   "id": "0780b78d-aeab-44af-b309-428993b444e6",
   "metadata": {},
   "outputs": [],
   "source": [
    "// This function takes another function as a parameter\n",
    "static void SayHello(Func<string> greetingFunction)\n",
    "{\n",
    "    Console.WriteLine(greetingFunction());\n",
    "}\n",
    "\n",
    "// This is a simple function we can pass around\n",
    "static string EnglishGreeting()\n",
    "{\n",
    "    return \"Hello!\";\n",
    "}"
   ]
  },
  {
   "cell_type": "code",
   "execution_count": 31,
   "id": "e9584934-7a63-4b11-94af-4a60d69cec4c",
   "metadata": {},
   "outputs": [
    {
     "name": "stdout",
     "output_type": "stream",
     "text": [
      "Hello!\n",
      "Hola!\n",
      "Bonjour!\n"
     ]
    }
   ],
   "source": [
    "// We're passing the function 'EnglishGreeting' as a parameter\n",
    "SayHello(EnglishGreeting);\n",
    "\n",
    "// We can also use an anonymous function\n",
    "SayHello(() => \"Hola!\");\n",
    "\n",
    "// Functions can be assigned to variables\n",
    "Func<string> frenchGreeting = () => \"Bonjour!\";\n",
    "SayHello(frenchGreeting);"
   ]
  },
  {
   "cell_type": "markdown",
   "id": "66014d36-c4b2-469e-ab9a-ec26fed68b92",
   "metadata": {},
   "source": [
    "In this example, the `SayHello` function takes another function as a parameter (`greetingFunction`). We then pass different greeting functions to it, like `EnglishGreeting`, an anonymous function saying \"Hola!\", and a function assigned to a variable saying \"Bonjour!\".\n",
    "\n",
    "So, first-class functions mean treating functions like any other piece of data in your program, allowing you to work with them in flexible and powerful ways."
   ]
  },
  {
   "cell_type": "markdown",
   "id": "50d0ebbc-0c4f-4217-b192-fb95db0dd121",
   "metadata": {},
   "source": [
    "<a id=\"high-order-functions\"></a>\n",
    "## High Order Functions"
   ]
  },
  {
   "cell_type": "markdown",
   "id": "1bbecad7-f633-41c6-8a77-414efc28517e",
   "metadata": {},
   "source": [
    "Think of functions that order other functions around. They either take functions as input, or they produce functions as output. It's like a boss function telling other functions what to do!"
   ]
  },
  {
   "cell_type": "markdown",
   "id": "f1393a2f-ac02-4477-88fe-ecebd7b9e771",
   "metadata": {},
   "source": [
    "**Example in C#**"
   ]
  },
  {
   "cell_type": "markdown",
   "id": "df28ac48-a903-4574-bc50-64f4461f6d4c",
   "metadata": {},
   "source": [
    "Imagine a factory where you tell it what kind of product you want, and it gives you a machine that makes that product. The factory is like a higher-order function - it takes your request (in this example, a non-function input) and gives you a specialized tool (another function)."
   ]
  },
  {
   "cell_type": "code",
   "execution_count": 33,
   "id": "6ea68bc3-baa8-4801-8e0c-8dd3f67437cd",
   "metadata": {},
   "outputs": [],
   "source": [
    "// This higher-order function takes a function as a parameter\n",
    "static Func<int, int> CreateMultiplier(int factor)\n",
    "{\n",
    "    // It returns a new function that multiplies its input by the specified factor\n",
    "    return (x) => x * factor;\n",
    "}"
   ]
  },
  {
   "cell_type": "code",
   "execution_count": 35,
   "id": "1434800a-4ab5-499e-8f73-9bdecf9449d1",
   "metadata": {},
   "outputs": [
    {
     "name": "stdout",
     "output_type": "stream",
     "text": [
      "15\n"
     ]
    }
   ],
   "source": [
    "// We're creating a function that multiplies by 3\n",
    "Func<int, int> multiplyBy3 = CreateMultiplier(3);\n",
    "\n",
    "// Now, we can use this function\n",
    "int result = multiplyBy3(5); // Result is 15\n",
    "Console.WriteLine(result);"
   ]
  },
  {
   "cell_type": "markdown",
   "id": "cc55827d-b785-4465-8b8c-c66023f9b376",
   "metadata": {},
   "source": [
    "In this example, CreateMultiplier is a higher-order function because it returns a new function ((x) => x * factor). It's like a factory for creating specific multiplication functions. Then, we use the generated function (multiplyBy3) to multiply a number by 3.\n",
    "\n",
    "So, in simpler terms, higher-order functions are like bosses for other functions. They either tell functions what to do or produce new functions based on your specifications."
   ]
  },
  {
   "cell_type": "markdown",
   "id": "fd8856e4-4a01-4651-827c-6a2bf6275a7a",
   "metadata": {},
   "source": [
    "<a id=\"recursion\"></a>\n",
    "## Recursion"
   ]
  },
  {
   "cell_type": "markdown",
   "id": "bffefc47-a9b2-4797-b35d-709affa78f1d",
   "metadata": {},
   "source": [
    "Recursion is like a set of Russian dolls. Imagine you have a doll, and inside that doll, there's another doll, and so on. In programming, recursion is a function calling itself, like opening one doll to find another."
   ]
  },
  {
   "cell_type": "markdown",
   "id": "5894d0a7-f47e-4160-aa27-766b936011e0",
   "metadata": {},
   "source": [
    "**Example in C#**"
   ]
  },
  {
   "cell_type": "markdown",
   "id": "024cecc9-c8ed-40f9-8b3e-c3186d72618f",
   "metadata": {},
   "source": [
    "Let's use a simple example: calculating the factorial of a number. The factorial of a number is the product of all positive integers up to that number. So, the factorial of 5 (written as $5!$) is $5 * 4 * 3 * 2 * 1$."
   ]
  },
  {
   "cell_type": "code",
   "execution_count": 36,
   "id": "927296e4-ef9b-4774-9489-222c356c0cfe",
   "metadata": {},
   "outputs": [],
   "source": [
    "// Recursive function to calculate factorial\n",
    "static int Factorial(int n)\n",
    "{\n",
    "    // Base case: when n is 0, the factorial is 1\n",
    "    if (n == 0)\n",
    "        return 1;\n",
    "        \n",
    "    // Recursive case: n! = n * (n-1)!\n",
    "    return n * Factorial(n - 1);\n",
    "}"
   ]
  },
  {
   "cell_type": "code",
   "execution_count": 37,
   "id": "bbda0a9d-62a1-4236-b9ed-9399e43aeafb",
   "metadata": {},
   "outputs": [
    {
     "name": "stdout",
     "output_type": "stream",
     "text": [
      "120\n"
     ]
    }
   ],
   "source": [
    "// Let's calculate the factorial of 5\n",
    "int result = Factorial(5);\n",
    "\n",
    "Console.WriteLine(result); // Output: 120"
   ]
  },
  {
   "cell_type": "markdown",
   "id": "46009464-5596-4502-90bf-e7965371edcf",
   "metadata": {},
   "source": [
    "<a id=\"anonymous-functions\"></a>\n",
    "## Anonymous Functions"
   ]
  },
  {
   "cell_type": "markdown",
   "id": "163b6b4c-1866-4afa-b6d2-cc6f379b31a1",
   "metadata": {},
   "source": [
    "Imagine you need a quick, small function, but you don't want to give it a full name and all that fuss. An anonymous function is like a quick note you write on a sticky pad - it's handy, short, and you use it on the go."
   ]
  },
  {
   "cell_type": "markdown",
   "id": "e598e78f-819a-4aab-90b6-81336f6beaec",
   "metadata": {},
   "source": [
    "**Forms of Anonymous Functions in C#**"
   ]
  },
  {
   "cell_type": "markdown",
   "id": "406367f1-82ef-4117-a405-ae5f27ddcc52",
   "metadata": {},
   "source": [
    "In C#, there are a couple of ways to write anonymous functions:\n",
    "\n",
    "1. **Lambda Expressions:** These are short and sweet, like writing a quick note. For example, **(x) => x * x** is a lambda expression that squares a number.\n",
    "2. **Anonymous Methods:** These are a bit more formal but still handy. They look like a regular method without a name. For example, **delegate(int x) { return x * x; }** is an anonymous method that also squares a number."
   ]
  },
  {
   "cell_type": "markdown",
   "id": "a959ca9d-a623-4615-8a51-6005d1562b85",
   "metadata": {},
   "source": [
    "**Example in C#**"
   ]
  },
  {
   "cell_type": "code",
   "execution_count": 40,
   "id": "b17df9a1-4010-4cd6-8239-c6bde02e642e",
   "metadata": {},
   "outputs": [],
   "source": [
    "delegate int SquareDelegate(int x); // Delegate for the anonymous method"
   ]
  },
  {
   "cell_type": "code",
   "execution_count": 41,
   "id": "788cc096-29a5-4d7a-856d-48a721267069",
   "metadata": {},
   "outputs": [
    {
     "name": "stdout",
     "output_type": "stream",
     "text": [
      "25\n",
      "25\n"
     ]
    }
   ],
   "source": [
    "// Lambda Expression\n",
    "Func<int, int> squareLambda = (x) => x * x;\n",
    "Console.WriteLine(squareLambda(5)); // Output: 25\n",
    "\n",
    "// Anonymous Method\n",
    "SquareDelegate squareDelegate = delegate(int x) { return x * x; };\n",
    "Console.WriteLine(squareDelegate(5)); // Output: 25"
   ]
  },
  {
   "cell_type": "markdown",
   "id": "5011eadc-9f44-46d9-9f25-d88a42f8fed3",
   "metadata": {},
   "source": [
    "In this example, `squareLambda` and `squareDelegate` are both anonymous functions that square a number. The lambda expression is short and concise, while the anonymous method is a bit more formal but achieves the same result.\n",
    "\n",
    "So, anonymous functions in C# are like quick, on-the-fly notes for small bits of code that you don't want to name formally. They're handy when you need something simple and don't want to go through the whole process of declaring a separate function."
   ]
  },
  {
   "cell_type": "markdown",
   "id": "7fc87c3a-713d-412c-a89c-032642357451",
   "metadata": {},
   "source": [
    "<a id=\"closures\"></a>\n",
    "## Closures"
   ]
  },
  {
   "cell_type": "markdown",
   "id": "e62f902a-b2a5-4a43-883a-9ec6dae792bd",
   "metadata": {},
   "source": [
    "<a id=\"functional-composition\"></a>\n",
    "## Functinal Composition"
   ]
  },
  {
   "cell_type": "markdown",
   "id": "484294c9-7462-4ab9-8e71-8606342520cc",
   "metadata": {},
   "source": [
    "<a id=\"map-filter-reduce\"></a>\n",
    "## Map, Filter, and Reduce"
   ]
  },
  {
   "cell_type": "markdown",
   "id": "8df24e97-03f3-430f-a363-d3eab02df734",
   "metadata": {},
   "source": [
    "<a id=\"refactoring\"></a>\n",
    "## Refactoring"
   ]
  },
  {
   "cell_type": "markdown",
   "id": "63f656ab-6061-45fd-88f1-0831d3a985af",
   "metadata": {},
   "source": [
    "<a id=\"curring\"></a>\n",
    "## Currying"
   ]
  },
  {
   "cell_type": "markdown",
   "id": "e1ce0216-8e6d-48c0-ab6a-920e78d8a06b",
   "metadata": {},
   "source": [
    "<a id=\"immutability\"></a>\n",
    "## Immutability"
   ]
  },
  {
   "cell_type": "markdown",
   "id": "3b09ed88-60d3-45be-adee-b70f0e3a8ac8",
   "metadata": {},
   "source": [
    "<a id=\"referential-transparency\"></a>\n",
    "## Referential Transparency"
   ]
  },
  {
   "cell_type": "markdown",
   "id": "9e2ab9d4-4b80-4e33-b811-ce1085d10a4b",
   "metadata": {},
   "source": [
    "<a id=\"monads\"></a>\n",
    "## Monads"
   ]
  },
  {
   "cell_type": "markdown",
   "id": "9455982d-5078-4b4f-976f-258437ed378b",
   "metadata": {},
   "source": [
    "<a id=\"pattern-matching-atching\"></a>\n",
    "## Pattern Matching Atching"
   ]
  },
  {
   "cell_type": "code",
   "execution_count": null,
   "id": "30e83051-dea6-4457-95c5-201e55c701fe",
   "metadata": {},
   "outputs": [],
   "source": []
  }
 ],
 "metadata": {
  "kernelspec": {
   "display_name": ".NET (C#)",
   "language": "C#",
   "name": ".net-csharp"
  },
  "language_info": {
   "file_extension": ".cs",
   "mimetype": "text/x-csharp",
   "name": "C#",
   "pygments_lexer": "csharp",
   "version": "11.0"
  }
 },
 "nbformat": 4,
 "nbformat_minor": 5
}
