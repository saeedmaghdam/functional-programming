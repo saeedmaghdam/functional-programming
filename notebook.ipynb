{
 "cells": [
  {
   "cell_type": "markdown",
   "id": "6e00233e-1225-47e5-a670-ba30e33d4a90",
   "metadata": {},
   "source": [
    "# Functional Programming In C#"
   ]
  },
  {
   "cell_type": "markdown",
   "id": "b7bca9e8-88ed-48fb-ae3e-9a16ca082dd6",
   "metadata": {},
   "source": [
    " **Table of content:**"
   ]
  },
  {
   "cell_type": "markdown",
   "id": "77cac6bc-a8d7-46d9-90ab-0673bb3f3a40",
   "metadata": {},
   "source": [
    "- [Introduction](#introduction)\n",
    "- [Pure Functions](#pure-functions)\n",
    "- [Functinal Composition](#functional-composition)\n",
    "- [High Order Functions](#high-order-functions)\n",
    "- [First-class Functions](#first-class-functions)\n",
    "- [Refactoring](#refactoring)\n",
    "- [Currying](#curring)\n",
    "- [Immutability](#immutability)\n",
    "- [Referential Transparency](#referential-transparency)\n",
    "- [Monads](#monads)\n",
    "- [Pattern Matching Atching](#pattern-matching-atching)"
   ]
  },
  {
   "cell_type": "markdown",
   "id": "16dff291-15fe-4e5a-a288-a2d2a9fe7d18",
   "metadata": {},
   "source": [
    "<a id=\"introduction\"></a>\n",
    "### Introduction"
   ]
  },
  {
   "cell_type": "markdown",
   "id": "956d1b86-533e-498f-bd3c-e740975380a8",
   "metadata": {},
   "source": [
    "Functional programming is a way of writing computer code that's inspired by how math works. In math, you have functions like $f(x)=2x$, where you put in a number x and get back a result. Functional programming is kind of like that. \n",
    "\n",
    "\n",
    "Here are a few simple ideas:\n",
    "\n",
    "\n",
    "1. **Functions are like recipes:** Think of a function as a recipe. You give it some ingredients (input), and it gives you a dish (output). Importantly, the recipe doesn't mess with anything outside the kitchen (no side effects).\n",
    "\n",
    "2. **No changing ingredients:** In functional programming, once you mix your ingredients, you can't change them. If you want something different, you make a new dish with slightly different ingredients.\n",
    "\n",
    "3. **Reuse your recipes:** You can take a recipe (function) and use it in other recipes. Imagine you have a \"chocolate chip cookie\" recipe, and you use it in your \"dessert\" recipe. This makes your code more organized and easier to understand.\n",
    "\n",
    "4. **No surprises:** Functional programming aims to avoid surprises. If you put the same ingredients into a recipe, you'll always get the same dish. This predictability makes your code less prone to bugs.\n",
    "\n",
    "5. **Keep it simple:** Functional programming encourages simple, straightforward recipes. This makes it easier for others (or even future you) to understand what's going on.\n",
    "\n",
    "\n",
    "So, in a nutshell, functional programming is like following a bunch of simple recipes that don't mess with anything outside the kitchen, and you can mix and match these recipes to create more complex dishes. The math connection comes from the fact that these recipes (functions) are inspired by mathematical functions, which are also about input and output without surprises."
   ]
  },
  {
   "cell_type": "markdown",
   "id": "42c6ad80-6f43-47e9-8b86-8ef492b3ce1e",
   "metadata": {},
   "source": [
    "<a id=\"pure-functions\"></a>\n",
    "### Pure Functions"
   ]
  },
  {
   "cell_type": "markdown",
   "id": "359963f7-7270-43fd-a2a6-c37e7ccdb020",
   "metadata": {},
   "source": [
    "<a id=\"functional-composition\"></a>\n",
    "### Functinal Composition"
   ]
  },
  {
   "cell_type": "markdown",
   "id": "379afb30-1da4-43da-b8e1-a5070e6ff389",
   "metadata": {},
   "source": [
    "<a id=\"high-order-functions\"></a>\n",
    "### High Order Functions"
   ]
  },
  {
   "cell_type": "markdown",
   "id": "50d0ebbc-0c4f-4217-b192-fb95db0dd121",
   "metadata": {},
   "source": [
    "<a id=\"first-class-functions\"></a>\n",
    "### First-class Functions"
   ]
  },
  {
   "cell_type": "markdown",
   "id": "8df24e97-03f3-430f-a363-d3eab02df734",
   "metadata": {},
   "source": [
    "<a id=\"refactoring\"></a>\n",
    "### Refactoring"
   ]
  },
  {
   "cell_type": "markdown",
   "id": "63f656ab-6061-45fd-88f1-0831d3a985af",
   "metadata": {},
   "source": [
    "<a id=\"curring\"></a>\n",
    "### Currying"
   ]
  },
  {
   "cell_type": "markdown",
   "id": "e1ce0216-8e6d-48c0-ab6a-920e78d8a06b",
   "metadata": {},
   "source": [
    "<a id=\"immutability\"></a>\n",
    "### Immutability"
   ]
  },
  {
   "cell_type": "markdown",
   "id": "3b09ed88-60d3-45be-adee-b70f0e3a8ac8",
   "metadata": {},
   "source": [
    "<a id=\"referential-transparency\"></a>\n",
    "### Referential Transparency"
   ]
  },
  {
   "cell_type": "markdown",
   "id": "9e2ab9d4-4b80-4e33-b811-ce1085d10a4b",
   "metadata": {},
   "source": [
    "<a id=\"monads\"></a>\n",
    "### Monads"
   ]
  },
  {
   "cell_type": "markdown",
   "id": "9455982d-5078-4b4f-976f-258437ed378b",
   "metadata": {},
   "source": [
    "<a id=\"pattern-matching-atching\"></a>\n",
    "### Pattern Matching Atching"
   ]
  },
  {
   "cell_type": "code",
   "execution_count": null,
   "id": "3b96fc3b-54bd-447f-bec2-4ea1c357bb07",
   "metadata": {},
   "outputs": [],
   "source": []
  },
  {
   "cell_type": "code",
   "execution_count": null,
   "id": "9db62433-e2ec-4a6b-9ec9-f9d0ea20e84c",
   "metadata": {},
   "outputs": [],
   "source": []
  },
  {
   "cell_type": "code",
   "execution_count": null,
   "id": "b42439c8-31dc-4e9f-bf20-f93906ba15b3",
   "metadata": {},
   "outputs": [],
   "source": []
  }
 ],
 "metadata": {
  "kernelspec": {
   "display_name": ".NET (C#)",
   "language": "C#",
   "name": ".net-csharp"
  },
  "language_info": {
   "file_extension": ".cs",
   "mimetype": "text/x-csharp",
   "name": "C#",
   "pygments_lexer": "csharp",
   "version": "11.0"
  }
 },
 "nbformat": 4,
 "nbformat_minor": 5
}
